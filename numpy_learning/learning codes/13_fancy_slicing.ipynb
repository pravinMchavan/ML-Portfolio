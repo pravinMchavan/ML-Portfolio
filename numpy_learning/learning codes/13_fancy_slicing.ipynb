{
 "cells": [
  {
   "cell_type": "markdown",
   "id": "877becc0",
   "metadata": {},
   "source": [
    "selecting multiple element at a time"
   ]
  },
  {
   "cell_type": "code",
   "execution_count": 1,
   "id": "2a8cde05",
   "metadata": {},
   "outputs": [],
   "source": [
    "import numpy as np\n",
    "arr = np.array([10, 20, 30, 40, 50])        "
   ]
  },
  {
   "cell_type": "code",
   "execution_count": 2,
   "id": "acad0da5",
   "metadata": {},
   "outputs": [
    {
     "name": "stdout",
     "output_type": "stream",
     "text": [
      "[10 30 50]\n"
     ]
    }
   ],
   "source": [
    "print(arr[[0, 2, 4]])  # Accessing multiple elements at once"
   ]
  }
 ],
 "metadata": {
  "kernelspec": {
   "display_name": "Python 3",
   "language": "python",
   "name": "python3"
  },
  "language_info": {
   "codemirror_mode": {
    "name": "ipython",
    "version": 3
   },
   "file_extension": ".py",
   "mimetype": "text/x-python",
   "name": "python",
   "nbconvert_exporter": "python",
   "pygments_lexer": "ipython3",
   "version": "3.12.1"
  }
 },
 "nbformat": 4,
 "nbformat_minor": 5
}
