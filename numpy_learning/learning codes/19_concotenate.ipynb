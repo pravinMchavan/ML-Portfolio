{
 "cells": [
  {
   "cell_type": "markdown",
   "id": "25fa18d7",
   "metadata": {},
   "source": [
    "np.concotenate((array1, array2), axis = 0)\n",
    "\n",
    "axis 0> vertical stacking\n",
    "axis 1 > horizantal stacking"
   ]
  },
  {
   "cell_type": "code",
   "execution_count": 1,
   "id": "f341a9c6",
   "metadata": {},
   "outputs": [
    {
     "name": "stdout",
     "output_type": "stream",
     "text": [
      "[1 2 3 4 5 6]\n"
     ]
    }
   ],
   "source": [
    "import numpy as np\n",
    "arr = np.array([1, 2, 3])\n",
    "arr2 = np.array([4, 5, 6])\n",
    "new_arr = np.concatenate((arr, arr2), axis=0)\n",
    "print(new_arr)"
   ]
  }
 ],
 "metadata": {
  "kernelspec": {
   "display_name": "Python 3",
   "language": "python",
   "name": "python3"
  },
  "language_info": {
   "codemirror_mode": {
    "name": "ipython",
    "version": 3
   },
   "file_extension": ".py",
   "mimetype": "text/x-python",
   "name": "python",
   "nbconvert_exporter": "python",
   "pygments_lexer": "ipython3",
   "version": "3.12.1"
  }
 },
 "nbformat": 4,
 "nbformat_minor": 5
}
