{
 "cells": [
  {
   "cell_type": "markdown",
   "id": "bacfc2ac",
   "metadata": {},
   "source": [
    "splitting is a method to split main aray into sub \n",
    "\n",
    "np.split()   -> devide arrays\n",
    "\n",
    "np.hsplit()  -> horezontali splitting\n",
    "\n",
    "np.vsplit()  -> vertically spliting"
   ]
  },
  {
   "cell_type": "code",
   "execution_count": 11,
   "id": "93711769",
   "metadata": {},
   "outputs": [],
   "source": [
    "import numpy as np\n",
    "\n",
    "arr = np.array([1,2,3,4,5,6]) \n"
   ]
  },
  {
   "cell_type": "code",
   "execution_count": 12,
   "id": "4d0bc139",
   "metadata": {},
   "outputs": [
    {
     "name": "stdout",
     "output_type": "stream",
     "text": [
      "[array([1, 2]), array([3, 4]), array([5, 6])]\n"
     ]
    }
   ],
   "source": [
    "new_arr1 = np.split(arr, 3)\n",
    "print(new_arr1)"
   ]
  },
  {
   "cell_type": "code",
   "execution_count": 13,
   "id": "cf13d4f2",
   "metadata": {},
   "outputs": [
    {
     "name": "stdout",
     "output_type": "stream",
     "text": [
      "[array([1, 2, 3]), array([4, 5, 6])]\n"
     ]
    }
   ],
   "source": [
    "new_arr2 = np.hsplit(arr, 2)\n",
    "print(new_arr2)"
   ]
  },
  {
   "cell_type": "code",
   "execution_count": 16,
   "id": "93336855",
   "metadata": {},
   "outputs": [
    {
     "name": "stdout",
     "output_type": "stream",
     "text": [
      "[array([[1, 2, 3]]), array([[4, 5, 6]])]\n"
     ]
    }
   ],
   "source": [
    "# Reshape arr to 2D before using vsplit\n",
    "new_arr3 = np.vsplit(arr.reshape(2, 3), 2)\n",
    "print(new_arr3)"
   ]
  }
 ],
 "metadata": {
  "kernelspec": {
   "display_name": "Python 3",
   "language": "python",
   "name": "python3"
  },
  "language_info": {
   "codemirror_mode": {
    "name": "ipython",
    "version": 3
   },
   "file_extension": ".py",
   "mimetype": "text/x-python",
   "name": "python",
   "nbconvert_exporter": "python",
   "pygments_lexer": "ipython3",
   "version": "3.12.1"
  }
 },
 "nbformat": 4,
 "nbformat_minor": 5
}
