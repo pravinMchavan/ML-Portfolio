{
 "cells": [
  {
   "cell_type": "markdown",
   "id": "7ad4b3c1",
   "metadata": {},
   "source": [
    "np.insert(array, index, value, axis = None)\n",
    "array - original array\n",
    "index - \n",
    "value -\n",
    "axis -\n",
    "axis = 0 - row wise\n",
    "axis = 1 - column wise\n",
    "axis = None -flatten - single line"
   ]
  },
  {
   "cell_type": "code",
   "execution_count": 16,
   "id": "d901acdd",
   "metadata": {},
   "outputs": [],
   "source": [
    "import numpy as np\n",
    "arr = np.array([1, 2, 3, 4, 5, 6])\n"
   ]
  },
  {
   "cell_type": "code",
   "execution_count": 17,
   "id": "403841c3",
   "metadata": {},
   "outputs": [
    {
     "name": "stdout",
     "output_type": "stream",
     "text": [
      "[1 2 7 3 4 5 6]\n"
     ]
    }
   ],
   "source": [
    "newarr = np.insert(arr, 2, 7, axis = None)\n",
    "print(newarr)  "
   ]
  },
  {
   "cell_type": "markdown",
   "id": "ca9e576a",
   "metadata": {},
   "source": [
    "insert in 2d array"
   ]
  },
  {
   "cell_type": "code",
   "execution_count": 18,
   "id": "a576ce55",
   "metadata": {},
   "outputs": [
    {
     "name": "stdout",
     "output_type": "stream",
     "text": [
      "[[1 2 3 7]\n",
      " [4 5 6 7]]\n"
     ]
    }
   ],
   "source": [
    "arr_2d = np.array([[1, 2, 3], \n",
    "                   [4, 5, 6]])\n",
    "newarr2d = np.insert(arr_2d, 3, 7, axis = 1)\n",
    "print(newarr2d)"
   ]
  },
  {
   "cell_type": "markdown",
   "id": "7d17af80",
   "metadata": {},
   "source": [
    "insert a new row at index 1"
   ]
  },
  {
   "cell_type": "code",
   "execution_count": 19,
   "id": "84dfb37b",
   "metadata": {},
   "outputs": [
    {
     "name": "stdout",
     "output_type": "stream",
     "text": [
      "[[1 2 3]\n",
      " [7 8 9]\n",
      " [4 5 6]]\n"
     ]
    }
   ],
   "source": [
    "newraw = np.insert(arr_2d, 1, [7,8,9], axis = 0)\n",
    "print(newraw)"
   ]
  }
 ],
 "metadata": {
  "kernelspec": {
   "display_name": "Python 3",
   "language": "python",
   "name": "python3"
  },
  "language_info": {
   "codemirror_mode": {
    "name": "ipython",
    "version": 3
   },
   "file_extension": ".py",
   "mimetype": "text/x-python",
   "name": "python",
   "nbconvert_exporter": "python",
   "pygments_lexer": "ipython3",
   "version": "3.12.1"
  }
 },
 "nbformat": 4,
 "nbformat_minor": 5
}
