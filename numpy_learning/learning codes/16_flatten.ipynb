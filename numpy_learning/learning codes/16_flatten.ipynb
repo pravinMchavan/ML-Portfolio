{
 "cells": [
  {
   "cell_type": "markdown",
   "id": "85a5b203",
   "metadata": {},
   "source": [
    ".ravel()  -> view\n",
    ".flatten() ->copy"
   ]
  },
  {
   "cell_type": "code",
   "execution_count": 1,
   "id": "a4493086",
   "metadata": {},
   "outputs": [],
   "source": [
    "import numpy as np\n",
    "arr_2d = np.array([[1, 2, 3,\n",
    "                   4, 5, 6]])"
   ]
  },
  {
   "cell_type": "code",
   "execution_count": 2,
   "id": "80d3173e",
   "metadata": {},
   "outputs": [
    {
     "name": "stdout",
     "output_type": "stream",
     "text": [
      "[1 2 3 4 5 6]\n"
     ]
    }
   ],
   "source": [
    "print(arr_2d.ravel())"
   ]
  },
  {
   "cell_type": "code",
   "execution_count": 3,
   "id": "0a46878e",
   "metadata": {},
   "outputs": [
    {
     "name": "stdout",
     "output_type": "stream",
     "text": [
      "[1 2 3 4 5 6]\n"
     ]
    }
   ],
   "source": [
    "print(arr_2d.flatten())"
   ]
  }
 ],
 "metadata": {
  "kernelspec": {
   "display_name": "Python 3",
   "language": "python",
   "name": "python3"
  },
  "language_info": {
   "codemirror_mode": {
    "name": "ipython",
    "version": 3
   },
   "file_extension": ".py",
   "mimetype": "text/x-python",
   "name": "python",
   "nbconvert_exporter": "python",
   "pygments_lexer": "ipython3",
   "version": "3.12.1"
  }
 },
 "nbformat": 4,
 "nbformat_minor": 5
}
