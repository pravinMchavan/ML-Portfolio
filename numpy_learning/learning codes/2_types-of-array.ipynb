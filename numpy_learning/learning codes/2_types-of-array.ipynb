{
 "cells": [
  {
   "cell_type": "markdown",
   "id": "3030fc50",
   "metadata": {},
   "source": [
    "Types of array"
   ]
  },
  {
   "cell_type": "markdown",
   "id": "8618cb09",
   "metadata": {},
   "source": [
    "1 dimensional array"
   ]
  },
  {
   "cell_type": "code",
   "execution_count": 1,
   "id": "65f48382",
   "metadata": {},
   "outputs": [
    {
     "data": {
      "text/plain": [
       "array([10, 20, 30, 40, 50])"
      ]
     },
     "execution_count": 1,
     "metadata": {},
     "output_type": "execute_result"
    }
   ],
   "source": [
    "import numpy as np\n",
    "ar_1d = np.array([10,20,30,40,50])\n",
    "ar_1d"
   ]
  },
  {
   "cell_type": "markdown",
   "id": "32708811",
   "metadata": {},
   "source": [
    "Two dimensional array"
   ]
  },
  {
   "cell_type": "code",
   "execution_count": 2,
   "id": "ac0d0366",
   "metadata": {},
   "outputs": [
    {
     "name": "stdout",
     "output_type": "stream",
     "text": [
      "[[1 2 3]\n",
      " [4 5 6]\n",
      " [7 8 9]]\n"
     ]
    }
   ],
   "source": [
    "ar_2d = np.array([[1,2,3],\n",
    "                  [4,5,6],\n",
    "                  [7,8,9]])\n",
    "print(ar_2d)"
   ]
  },
  {
   "cell_type": "markdown",
   "id": "c6a793f9",
   "metadata": {},
   "source": [
    "Multy Dimensional array or matrix array"
   ]
  },
  {
   "cell_type": "code",
   "execution_count": 3,
   "id": "cd0796cc",
   "metadata": {},
   "outputs": [
    {
     "name": "stdout",
     "output_type": "stream",
     "text": [
      "[[ 2  4  6]\n",
      " [ 8 10 12]]\n"
     ]
    }
   ],
   "source": [
    "matrix = np.array([[2,4,6],\n",
    "                   [8,10,12]])\n",
    "print(matrix)"
   ]
  }
 ],
 "metadata": {
  "kernelspec": {
   "display_name": "Python 3",
   "language": "python",
   "name": "python3"
  },
  "language_info": {
   "codemirror_mode": {
    "name": "ipython",
    "version": 3
   },
   "file_extension": ".py",
   "mimetype": "text/x-python",
   "name": "python",
   "nbconvert_exporter": "python",
   "pygments_lexer": "ipython3",
   "version": "3.12.1"
  }
 },
 "nbformat": 4,
 "nbformat_minor": 5
}
