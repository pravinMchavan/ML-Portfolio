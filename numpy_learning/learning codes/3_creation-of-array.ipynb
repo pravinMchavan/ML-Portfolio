{
 "cells": [
  {
   "cell_type": "markdown",
   "id": "89db949d",
   "metadata": {},
   "source": [
    "#crating arrays from python list\n",
    "#nnp.array([ele1, ele2, ele3])"
   ]
  },
  {
   "cell_type": "code",
   "execution_count": 5,
   "id": "e573945d",
   "metadata": {},
   "outputs": [
    {
     "data": {
      "text/plain": [
       "array([1, 2, 3])"
      ]
     },
     "execution_count": 5,
     "metadata": {},
     "output_type": "execute_result"
    }
   ],
   "source": [
    "import numpy as np\n",
    "arr = np.array([1,2,3])\n",
    "arr"
   ]
  },
  {
   "cell_type": "markdown",
   "id": "fe368cbf",
   "metadata": {},
   "source": [
    "#with default values we can change values in future\n",
    "#np.zeros(shape) (3) <----for 1D,   for 2D -->(3,3) "
   ]
  },
  {
   "cell_type": "code",
   "execution_count": 8,
   "id": "36fbb064",
   "metadata": {},
   "outputs": [
    {
     "name": "stdout",
     "output_type": "stream",
     "text": [
      "[0. 0. 0.]\n"
     ]
    }
   ],
   "source": [
    "zeros_array = np.zeros(3)\n",
    "print(zeros_array)"
   ]
  },
  {
   "cell_type": "markdown",
   "id": "47a8983d",
   "metadata": {},
   "source": [
    "#ones(shape  )   making 1 ad default values"
   ]
  },
  {
   "cell_type": "code",
   "execution_count": 11,
   "id": "21a643c9",
   "metadata": {},
   "outputs": [
    {
     "name": "stdout",
     "output_type": "stream",
     "text": [
      "[[1. 1. 1.]\n",
      " [1. 1. 1.]]\n"
     ]
    }
   ],
   "source": [
    "ones_array = np.ones((2,3))\n",
    "print(ones_array)"
   ]
  },
  {
   "cell_type": "markdown",
   "id": "e2e9c879",
   "metadata": {},
   "source": [
    "full(shape, value)\n"
   ]
  },
  {
   "cell_type": "code",
   "execution_count": 12,
   "id": "ff6e323b",
   "metadata": {},
   "outputs": [
    {
     "data": {
      "text/plain": [
       "array([[7, 7],\n",
       "       [7, 7]])"
      ]
     },
     "execution_count": 12,
     "metadata": {},
     "output_type": "execute_result"
    }
   ],
   "source": [
    "filled_array = np.full((2,2),7)\n",
    "filled_array"
   ]
  },
  {
   "cell_type": "markdown",
   "id": "fd15e7e3",
   "metadata": {},
   "source": [
    "#creating sequences of numbers in numpy"
   ]
  },
  {
   "cell_type": "markdown",
   "id": "bee25e2b",
   "metadata": {},
   "source": [
    "#arrange(start,stop,step)"
   ]
  },
  {
   "cell_type": "code",
   "execution_count": 15,
   "id": "36216df4",
   "metadata": {},
   "outputs": [
    {
     "name": "stdout",
     "output_type": "stream",
     "text": [
      "[1 3 5 7 9]\n"
     ]
    },
    {
     "data": {
      "text/plain": [
       "numpy.ndarray"
      ]
     },
     "execution_count": 15,
     "metadata": {},
     "output_type": "execute_result"
    }
   ],
   "source": [
    "arr_arange = np.arange(1,10,2)\n",
    "print(arr_arange)\n",
    "type(arr_arange)"
   ]
  },
  {
   "cell_type": "markdown",
   "id": "232a2175",
   "metadata": {},
   "source": [
    "#creating identiy matrices , 1 in diagonal and zero elsewhere\n",
    "#eye(size)"
   ]
  },
  {
   "cell_type": "code",
   "execution_count": null,
   "id": "946e3936",
   "metadata": {},
   "outputs": [
    {
     "data": {
      "text/plain": [
       "array([[1., 0., 0.],\n",
       "       [0., 1., 0.],\n",
       "       [0., 0., 1.]])"
      ]
     },
     "execution_count": 16,
     "metadata": {},
     "output_type": "execute_result"
    }
   ],
   "source": [
    "identity_matrix = np.eye(3)     \n",
    "identity_matrix"
   ]
  }
 ],
 "metadata": {
  "kernelspec": {
   "display_name": "Python 3",
   "language": "python",
   "name": "python3"
  },
  "language_info": {
   "codemirror_mode": {
    "name": "ipython",
    "version": 3
   },
   "file_extension": ".py",
   "mimetype": "text/x-python",
   "name": "python",
   "nbconvert_exporter": "python",
   "pygments_lexer": "ipython3",
   "version": "3.12.1"
  }
 },
 "nbformat": 4,
 "nbformat_minor": 5
}
