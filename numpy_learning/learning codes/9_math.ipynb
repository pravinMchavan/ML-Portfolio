{
 "cells": [
  {
   "cell_type": "code",
   "execution_count": 3,
   "id": "993dbf86",
   "metadata": {},
   "outputs": [],
   "source": [
    "import numpy as np\n",
    "arr = np.array([10, 20, 30, 40])\n"
   ]
  },
  {
   "cell_type": "code",
   "execution_count": 4,
   "id": "ecfa368e",
   "metadata": {},
   "outputs": [
    {
     "name": "stdout",
     "output_type": "stream",
     "text": [
      "[15 25 35 45]\n",
      "[ 5 15 25 35]\n",
      "[ 50 100 150 200]\n",
      "[2. 4. 6. 8.]\n",
      "[0 0 0 0]\n",
      "[ 100  400  900 1600]\n"
     ]
    }
   ],
   "source": [
    "print(arr + 5)\n",
    "print(arr - 5)\n",
    "print(arr * 5)\n",
    "print(arr / 5)\n",
    "print(arr % 5)\n",
    "print(arr ** 2)"
   ]
  }
 ],
 "metadata": {
  "kernelspec": {
   "display_name": "Python 3",
   "language": "python",
   "name": "python3"
  },
  "language_info": {
   "codemirror_mode": {
    "name": "ipython",
    "version": 3
   },
   "file_extension": ".py",
   "mimetype": "text/x-python",
   "name": "python",
   "nbconvert_exporter": "python",
   "pygments_lexer": "ipython3",
   "version": "3.12.1"
  }
 },
 "nbformat": 4,
 "nbformat_minor": 5
}
