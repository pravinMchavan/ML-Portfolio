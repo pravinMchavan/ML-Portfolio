{
 "cells": [
  {
   "cell_type": "code",
   "execution_count": 7,
   "id": "7f98b1db",
   "metadata": {},
   "outputs": [],
   "source": [
    "import numpy as np\n",
    "arr = np.array([10, 20, 30, 40, 50])"
   ]
  },
  {
   "cell_type": "code",
   "execution_count": null,
   "id": "d8d28afb",
   "metadata": {},
   "outputs": [
    {
     "name": "stdout",
     "output_type": "stream",
     "text": [
      "[10 20 30 40 50]\n",
      "[10 30 50]\n"
     ]
    }
   ],
   "source": [
    "print(arr[:])       # slicing with step 1\n",
    "print(arr[::2])       # slicing with step 2\n",
    "print(arr[1:5])       # slicing from index 1 to 4\n"
   ]
  },
  {
   "cell_type": "markdown",
   "id": "fd14fe09",
   "metadata": {},
   "source": [
    "reverse array"
   ]
  },
  {
   "cell_type": "code",
   "execution_count": 9,
   "id": "4134aecd",
   "metadata": {},
   "outputs": [
    {
     "name": "stdout",
     "output_type": "stream",
     "text": [
      "[50 40 30 20 10]\n"
     ]
    }
   ],
   "source": [
    "print(arr[::-1])       # Accessing the first element"
   ]
  }
 ],
 "metadata": {
  "kernelspec": {
   "display_name": "Python 3",
   "language": "python",
   "name": "python3"
  },
  "language_info": {
   "codemirror_mode": {
    "name": "ipython",
    "version": 3
   },
   "file_extension": ".py",
   "mimetype": "text/x-python",
   "name": "python",
   "nbconvert_exporter": "python",
   "pygments_lexer": "ipython3",
   "version": "3.12.1"
  }
 },
 "nbformat": 4,
 "nbformat_minor": 5
}
