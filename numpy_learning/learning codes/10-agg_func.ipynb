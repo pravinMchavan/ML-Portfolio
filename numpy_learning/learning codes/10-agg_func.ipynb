{
 "cells": [
  {
   "cell_type": "code",
   "execution_count": 1,
   "id": "689ddac0",
   "metadata": {},
   "outputs": [],
   "source": [
    "import numpy as np  \n",
    "arr = np.array([10, 20, 30, 40, 50 ])"
   ]
  },
  {
   "cell_type": "code",
   "execution_count": 2,
   "id": "c7071881",
   "metadata": {},
   "outputs": [
    {
     "name": "stdout",
     "output_type": "stream",
     "text": [
      "150\n",
      "30.0\n",
      "10\n",
      "50\n",
      "14.142135623730951\n",
      "200.0\n"
     ]
    }
   ],
   "source": [
    "print(np.sum(arr))\n",
    "print(np.mean(arr))\n",
    "print(np.min(arr))\n",
    "print(np.max(arr))\n",
    "print(np.std(arr))\n",
    "print(np.var(arr))"
   ]
  }
 ],
 "metadata": {
  "kernelspec": {
   "display_name": "Python 3",
   "language": "python",
   "name": "python3"
  },
  "language_info": {
   "codemirror_mode": {
    "name": "ipython",
    "version": 3
   },
   "file_extension": ".py",
   "mimetype": "text/x-python",
   "name": "python",
   "nbconvert_exporter": "python",
   "pygments_lexer": "ipython3",
   "version": "3.12.1"
  }
 },
 "nbformat": 4,
 "nbformat_minor": 5
}
