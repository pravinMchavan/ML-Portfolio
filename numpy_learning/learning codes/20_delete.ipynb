{
 "cells": [
  {
   "cell_type": "markdown",
   "id": "4ccb9e32",
   "metadata": {},
   "source": [
    "np.delete(array, index, axis = None)\n",
    "flatten array\n"
   ]
  },
  {
   "cell_type": "code",
   "execution_count": 3,
   "id": "69411d38",
   "metadata": {},
   "outputs": [
    {
     "name": "stdout",
     "output_type": "stream",
     "text": [
      "[1 2 4 5 6]\n"
     ]
    }
   ],
   "source": [
    "import numpy as np\n",
    "arr = np.array([1,2,3,4,5,6])\n",
    "new_arr = np.delete(arr, 2, axis = None)\n",
    "print(new_arr)"
   ]
  },
  {
   "cell_type": "markdown",
   "id": "6db67a10",
   "metadata": {},
   "source": [
    "delete 2d array"
   ]
  },
  {
   "cell_type": "code",
   "execution_count": 6,
   "id": "e96ead13",
   "metadata": {},
   "outputs": [
    {
     "name": "stdout",
     "output_type": "stream",
     "text": [
      "[[4 5 6]]\n"
     ]
    }
   ],
   "source": [
    "arr_2d = np.array([[1,2,3],\n",
    "                   [4,5,6]])\n",
    "new2d_array = np.delete(arr_2d, 0, axis = 0)\n",
    "print(new2d_array)"
   ]
  }
 ],
 "metadata": {
  "kernelspec": {
   "display_name": "Python 3",
   "language": "python",
   "name": "python3"
  },
  "language_info": {
   "codemirror_mode": {
    "name": "ipython",
    "version": 3
   },
   "file_extension": ".py",
   "mimetype": "text/x-python",
   "name": "python",
   "nbconvert_exporter": "python",
   "pygments_lexer": "ipython3",
   "version": "3.12.1"
  }
 },
 "nbformat": 4,
 "nbformat_minor": 5
}
