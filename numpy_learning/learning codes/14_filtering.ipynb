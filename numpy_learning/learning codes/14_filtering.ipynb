{
 "cells": [
  {
   "cell_type": "markdown",
   "id": "e874c6df",
   "metadata": {},
   "source": [
    "boolean masking"
   ]
  },
  {
   "cell_type": "code",
   "execution_count": 1,
   "id": "a4e795dd",
   "metadata": {},
   "outputs": [],
   "source": [
    "import numpy as np\n",
    "arr = np.array([10, 20, 30, 40, 50])    "
   ]
  },
  {
   "cell_type": "code",
   "execution_count": 3,
   "id": "181f38f5",
   "metadata": {},
   "outputs": [
    {
     "name": "stdout",
     "output_type": "stream",
     "text": [
      "[40 50]\n"
     ]
    }
   ],
   "source": [
    "print(arr[arr > 30])     "
   ]
  }
 ],
 "metadata": {
  "kernelspec": {
   "display_name": "Python 3",
   "language": "python",
   "name": "python3"
  },
  "language_info": {
   "codemirror_mode": {
    "name": "ipython",
    "version": 3
   },
   "file_extension": ".py",
   "mimetype": "text/x-python",
   "name": "python",
   "nbconvert_exporter": "python",
   "pygments_lexer": "ipython3",
   "version": "3.12.1"
  }
 },
 "nbformat": 4,
 "nbformat_minor": 5
}
