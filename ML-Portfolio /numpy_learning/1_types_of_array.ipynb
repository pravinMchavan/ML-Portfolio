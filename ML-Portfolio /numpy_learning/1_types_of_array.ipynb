{
  "nbformat": 4,
  "nbformat_minor": 0,
  "metadata": {
    "colab": {
      "provenance": [],
      "authorship_tag": "ABX9TyP4gpBv+GvG1NW90SJX/k3D",
      "include_colab_link": true
    },
    "kernelspec": {
      "name": "python3",
      "display_name": "Python 3"
    },
    "language_info": {
      "name": "python"
    }
  },
  "cells": [
    {
      "cell_type": "markdown",
      "metadata": {
        "id": "view-in-github",
        "colab_type": "text"
      },
      "source": [
        "<a href=\"https://colab.research.google.com/github/pravinMchavan/ML-Portfolio/blob/main/ML-Portfolio%20/numpy_learning/1_types_of_array.ipynb\" target=\"_parent\"><img src=\"https://colab.research.google.com/assets/colab-badge.svg\" alt=\"Open In Colab\"/></a>"
      ]
    },
    {
      "cell_type": "markdown",
      "source": [
        "#Types of array"
      ],
      "metadata": {
        "id": "uKMHTW6l1Zju"
      }
    },
    {
      "cell_type": "markdown",
      "source": [
        "1 dimensional array"
      ],
      "metadata": {
        "id": "_hYLY2SO1ka5"
      }
    },
    {
      "cell_type": "code",
      "source": [
        "import numpy as np\n",
        "ar_1d = np.array([10,20,30,40,50])\n",
        "ar_1d"
      ],
      "metadata": {
        "colab": {
          "base_uri": "https://localhost:8080/"
        },
        "id": "f1sXSF7l1qrT",
        "outputId": "e25df8ca-1623-4d47-ad9d-8aae719a76cc"
      },
      "execution_count": null,
      "outputs": [
        {
          "output_type": "execute_result",
          "data": {
            "text/plain": [
              "array([10, 20, 30, 40, 50])"
            ]
          },
          "metadata": {},
          "execution_count": 5
        }
      ]
    },
    {
      "cell_type": "markdown",
      "source": [
        "Two dimensional array"
      ],
      "metadata": {
        "id": "DufPw3YQ2T6_"
      }
    },
    {
      "cell_type": "code",
      "source": [
        "ar_2d = np.array([[1,2,3],\n",
        "                  [4,5,6],\n",
        "                  [7,8,9]])\n",
        "print(ar_2d)"
      ],
      "metadata": {
        "colab": {
          "base_uri": "https://localhost:8080/"
        },
        "id": "4rVBISkZ2hov",
        "outputId": "8155deee-3db3-43ff-ec2e-df28d2fcdb28"
      },
      "execution_count": null,
      "outputs": [
        {
          "output_type": "stream",
          "name": "stdout",
          "text": [
            "[[1 2 3]\n",
            " [4 5 6]\n",
            " [7 8 9]]\n"
          ]
        }
      ]
    },
    {
      "cell_type": "markdown",
      "source": [
        "Multy Dimensional array"
      ],
      "metadata": {
        "id": "u2p6GYwk3jIn"
      }
    },
    {
      "cell_type": "code",
      "source": [
        "matrix = np.array([[2,4,6],\n",
        "                   [8,10,12]])\n",
        "print(matrix)"
      ],
      "metadata": {
        "colab": {
          "base_uri": "https://localhost:8080/"
        },
        "id": "BwuBl7u03qBQ",
        "outputId": "266e4a55-39c5-4576-d2a2-95129ee6a85e"
      },
      "execution_count": null,
      "outputs": [
        {
          "output_type": "stream",
          "name": "stdout",
          "text": [
            "[[ 2  4  6]\n",
            " [ 8 10 12]]\n"
          ]
        }
      ]
    }
  ]
}