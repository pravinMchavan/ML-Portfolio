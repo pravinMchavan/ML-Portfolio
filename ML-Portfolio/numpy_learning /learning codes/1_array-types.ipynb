{
  "nbformat": 4,
  "nbformat_minor": 0,
  "metadata": {
    "colab": {
      "provenance": [],
      "authorship_tag": "ABX9TyPTnE6deynxQh0GCgOZmHHP",
      "include_colab_link": true
    },
    "kernelspec": {
      "name": "python3",
      "display_name": "Python 3"
    },
    "language_info": {
      "name": "python"
    }
  },
  "cells": [
    {
      "cell_type": "markdown",
      "metadata": {
        "id": "view-in-github",
        "colab_type": "text"
      },
      "source": [
        "<a href=\"https://colab.research.google.com/github/pravinMchavan/ML-Portfolio/blob/main/ML-Portfolio/numpy_learning%20/learning%20codes/1_array-types.ipynb\" target=\"_parent\"><img src=\"https://colab.research.google.com/assets/colab-badge.svg\" alt=\"Open In Colab\"/></a>"
      ]
    },
    {
      "cell_type": "markdown",
      "source": [
        "#Types of array"
      ],
      "metadata": {
        "id": "uKMHTW6l1Zju"
      }
    },
    {
      "cell_type": "markdown",
      "source": [
        "1 dimensional array"
      ],
      "metadata": {
        "id": "_hYLY2SO1ka5"
      }
    },
    {
      "cell_type": "code",
      "source": [
        "import numpy as np\n",
        "ar_1d = np.array([10,20,30,40,50])\n",
        "ar_1d"
      ],
      "metadata": {
        "colab": {
          "base_uri": "https://localhost:8080/"
        },
        "id": "f1sXSF7l1qrT",
        "outputId": "1b06b50e-bd96-46bc-9462-9ff35168917f"
      },
      "execution_count": 3,
      "outputs": [
        {
          "output_type": "execute_result",
          "data": {
            "text/plain": [
              "array([10, 20, 30, 40, 50])"
            ]
          },
          "metadata": {},
          "execution_count": 3
        }
      ]
    }
  ]
}