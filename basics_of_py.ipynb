{
  "cells": [
    {
      "cell_type": "markdown",
      "metadata": {
        "id": "PNwVbVYyPYRV"
      },
      "source": [
        "#**keywords**"
      ]
    },
    {
      "cell_type": "code",
      "execution_count": 48,
      "metadata": {
        "id": "HOKdd-y_Pb8G"
      },
      "outputs": [],
      "source": [
        "import keyword"
      ]
    },
    {
      "cell_type": "code",
      "execution_count": 49,
      "metadata": {
        "colab": {
          "base_uri": "https://localhost:8080/"
        },
        "id": "2NwaJLRXP7md",
        "outputId": "31723b3a-0293-48ae-f6b2-10c75ea5cd98"
      },
      "outputs": [
        {
          "output_type": "execute_result",
          "data": {
            "text/plain": [
              "['False',\n",
              " 'None',\n",
              " 'True',\n",
              " 'and',\n",
              " 'as',\n",
              " 'assert',\n",
              " 'async',\n",
              " 'await',\n",
              " 'break',\n",
              " 'class',\n",
              " 'continue',\n",
              " 'def',\n",
              " 'del',\n",
              " 'elif',\n",
              " 'else',\n",
              " 'except',\n",
              " 'finally',\n",
              " 'for',\n",
              " 'from',\n",
              " 'global',\n",
              " 'if',\n",
              " 'import',\n",
              " 'in',\n",
              " 'is',\n",
              " 'lambda',\n",
              " 'nonlocal',\n",
              " 'not',\n",
              " 'or',\n",
              " 'pass',\n",
              " 'raise',\n",
              " 'return',\n",
              " 'try',\n",
              " 'while',\n",
              " 'with',\n",
              " 'yield']"
            ]
          },
          "metadata": {},
          "execution_count": 49
        }
      ],
      "source": [
        "keyword.kwlist"
      ]
    },
    {
      "cell_type": "markdown",
      "metadata": {
        "id": "FbMhEdyeQuiW"
      },
      "source": [
        "#operators"
      ]
    },
    {
      "cell_type": "code",
      "execution_count": 50,
      "metadata": {
        "id": "7WZulV2MRmcm"
      },
      "outputs": [],
      "source": [
        "a1=23\n",
        "a2=32"
      ]
    },
    {
      "cell_type": "code",
      "execution_count": 51,
      "metadata": {
        "colab": {
          "base_uri": "https://localhost:8080/"
        },
        "id": "J_SFSxxXRvEG",
        "outputId": "f015be08-5b95-476e-fe24-c418a1334502"
      },
      "outputs": [
        {
          "output_type": "execute_result",
          "data": {
            "text/plain": [
              "55"
            ]
          },
          "metadata": {},
          "execution_count": 51
        }
      ],
      "source": [
        "a1+a2"
      ]
    },
    {
      "cell_type": "code",
      "execution_count": 52,
      "metadata": {
        "colab": {
          "base_uri": "https://localhost:8080/"
        },
        "id": "NdQ6ZC2eSBDW",
        "outputId": "d4f4550e-70ba-44db-cc2d-54340e194790"
      },
      "outputs": [
        {
          "output_type": "execute_result",
          "data": {
            "text/plain": [
              "736"
            ]
          },
          "metadata": {},
          "execution_count": 52
        }
      ],
      "source": [
        "a1*a2"
      ]
    },
    {
      "cell_type": "code",
      "execution_count": 53,
      "metadata": {
        "colab": {
          "base_uri": "https://localhost:8080/"
        },
        "id": "39g6vIBTSDdt",
        "outputId": "2d7d635c-d7fe-4bf2-adc5-25dc7c91eb12"
      },
      "outputs": [
        {
          "output_type": "execute_result",
          "data": {
            "text/plain": [
              "0.71875"
            ]
          },
          "metadata": {},
          "execution_count": 53
        }
      ],
      "source": [
        "a1/a2"
      ]
    },
    {
      "cell_type": "code",
      "execution_count": 54,
      "metadata": {
        "colab": {
          "base_uri": "https://localhost:8080/"
        },
        "id": "zqXNgQteSGoV",
        "outputId": "f8528c41-a34e-4d31-98f0-a11ef970207a"
      },
      "outputs": [
        {
          "output_type": "execute_result",
          "data": {
            "text/plain": [
              "23"
            ]
          },
          "metadata": {},
          "execution_count": 54
        }
      ],
      "source": [
        "a1%a2  #reminder"
      ]
    },
    {
      "cell_type": "code",
      "execution_count": 55,
      "metadata": {
        "colab": {
          "base_uri": "https://localhost:8080/"
        },
        "id": "d1OV-aUMSPvG",
        "outputId": "5aba7908-e6c6-4af1-ac8a-5c71c4cbbed8"
      },
      "outputs": [
        {
          "output_type": "execute_result",
          "data": {
            "text/plain": [
              "6.4"
            ]
          },
          "metadata": {},
          "execution_count": 55
        }
      ],
      "source": [
        "a2/5"
      ]
    },
    {
      "cell_type": "code",
      "execution_count": 56,
      "metadata": {
        "colab": {
          "base_uri": "https://localhost:8080/"
        },
        "id": "9czt8aBKSWud",
        "outputId": "bc97ef2b-cbf9-441a-c000-1e52cf560a2a"
      },
      "outputs": [
        {
          "output_type": "execute_result",
          "data": {
            "text/plain": [
              "6"
            ]
          },
          "metadata": {},
          "execution_count": 56
        }
      ],
      "source": [
        "a2//5"
      ]
    },
    {
      "cell_type": "markdown",
      "metadata": {
        "id": "iZKVM_rEhdYp"
      },
      "source": [
        "list"
      ]
    },
    {
      "cell_type": "code",
      "execution_count": 57,
      "metadata": {
        "id": "qpK_Ak1RhdYq"
      },
      "outputs": [],
      "source": [
        "a = []"
      ]
    },
    {
      "cell_type": "code",
      "execution_count": 58,
      "metadata": {
        "colab": {
          "base_uri": "https://localhost:8080/"
        },
        "id": "BOum6QiDhdYq",
        "outputId": "94187efb-07e9-4b5c-e66d-73b29aeb6229"
      },
      "outputs": [
        {
          "output_type": "execute_result",
          "data": {
            "text/plain": [
              "[]"
            ]
          },
          "metadata": {},
          "execution_count": 58
        }
      ],
      "source": [
        "a"
      ]
    },
    {
      "cell_type": "code",
      "execution_count": 59,
      "metadata": {
        "id": "mF05nwgxhdYq"
      },
      "outputs": [],
      "source": [
        "b = [1,'a',True,5.6,]"
      ]
    },
    {
      "cell_type": "code",
      "execution_count": 60,
      "metadata": {
        "colab": {
          "base_uri": "https://localhost:8080/"
        },
        "id": "wthZDISChdYr",
        "outputId": "1003a63f-ccca-4afa-8e9b-644c480b9896"
      },
      "outputs": [
        {
          "output_type": "execute_result",
          "data": {
            "text/plain": [
              "[1, 'a', True, 5.6]"
            ]
          },
          "metadata": {},
          "execution_count": 60
        }
      ],
      "source": [
        "b"
      ]
    },
    {
      "cell_type": "code",
      "execution_count": 61,
      "metadata": {
        "colab": {
          "base_uri": "https://localhost:8080/"
        },
        "id": "2B5tYViDhdYr",
        "outputId": "5133cedd-929f-40ff-b63f-9da853630f4d"
      },
      "outputs": [
        {
          "output_type": "execute_result",
          "data": {
            "text/plain": [
              "list"
            ]
          },
          "metadata": {},
          "execution_count": 61
        }
      ],
      "source": [
        "type(b)"
      ]
    },
    {
      "cell_type": "code",
      "execution_count": 62,
      "metadata": {
        "colab": {
          "base_uri": "https://localhost:8080/",
          "height": 35
        },
        "id": "QqsxKsHIhdYr",
        "outputId": "bfe5f289-d626-4c68-a21b-cfaca4bf9402"
      },
      "outputs": [
        {
          "output_type": "execute_result",
          "data": {
            "text/plain": [
              "'a'"
            ],
            "application/vnd.google.colaboratory.intrinsic+json": {
              "type": "string"
            }
          },
          "metadata": {},
          "execution_count": 62
        }
      ],
      "source": [
        "b[1]"
      ]
    },
    {
      "cell_type": "code",
      "execution_count": 63,
      "metadata": {
        "colab": {
          "base_uri": "https://localhost:8080/"
        },
        "id": "KCMGWsYRhdYs",
        "outputId": "0d9ef1e4-bf80-48d1-dc5c-d83cc3cfae6f"
      },
      "outputs": [
        {
          "output_type": "execute_result",
          "data": {
            "text/plain": [
              "5.6"
            ]
          },
          "metadata": {},
          "execution_count": 63
        }
      ],
      "source": [
        "b[-1]"
      ]
    },
    {
      "cell_type": "code",
      "execution_count": 64,
      "metadata": {
        "id": "veWvXhqrhdYs"
      },
      "outputs": [],
      "source": [
        "bb = b.copy()"
      ]
    },
    {
      "cell_type": "code",
      "execution_count": 65,
      "metadata": {
        "colab": {
          "base_uri": "https://localhost:8080/"
        },
        "id": "_Bm02jJ7hdYs",
        "outputId": "dc46d558-c8a7-4285-929d-d0ea417f9ffb"
      },
      "outputs": [
        {
          "output_type": "execute_result",
          "data": {
            "text/plain": [
              "[1, 'a', True, 5.6]"
            ]
          },
          "metadata": {},
          "execution_count": 65
        }
      ],
      "source": [
        "bb"
      ]
    },
    {
      "cell_type": "code",
      "execution_count": 66,
      "metadata": {
        "id": "xvF4QCzihdYs"
      },
      "outputs": [],
      "source": [
        "bb.remove(1)"
      ]
    },
    {
      "cell_type": "code",
      "execution_count": 67,
      "metadata": {
        "colab": {
          "base_uri": "https://localhost:8080/"
        },
        "id": "bZm4_2twhdYs",
        "outputId": "777e7e0b-2a75-4838-c3ea-f206ef90f8e7"
      },
      "outputs": [
        {
          "output_type": "execute_result",
          "data": {
            "text/plain": [
              "['a', True, 5.6]"
            ]
          },
          "metadata": {},
          "execution_count": 67
        }
      ],
      "source": [
        "bb"
      ]
    },
    {
      "cell_type": "code",
      "execution_count": 68,
      "metadata": {
        "id": "bNyyQazOhdYt"
      },
      "outputs": [],
      "source": [
        "bb.clear()"
      ]
    },
    {
      "cell_type": "code",
      "execution_count": 69,
      "metadata": {
        "colab": {
          "base_uri": "https://localhost:8080/"
        },
        "id": "xLZshfcihdYt",
        "outputId": "9c06e179-8d11-4fa4-c09b-c08eb6446b38"
      },
      "outputs": [
        {
          "output_type": "execute_result",
          "data": {
            "text/plain": [
              "[]"
            ]
          },
          "metadata": {},
          "execution_count": 69
        }
      ],
      "source": [
        "bb"
      ]
    },
    {
      "cell_type": "code",
      "execution_count": 70,
      "metadata": {
        "id": "JMZdYw5DhdYt"
      },
      "outputs": [],
      "source": [
        "bb.insert(1,\"hello\")"
      ]
    },
    {
      "cell_type": "code",
      "execution_count": 71,
      "metadata": {
        "colab": {
          "base_uri": "https://localhost:8080/"
        },
        "id": "T75Dtb3phdYt",
        "outputId": "446c0ef1-e500-4540-a49f-118b1ddfdf1a"
      },
      "outputs": [
        {
          "output_type": "execute_result",
          "data": {
            "text/plain": [
              "['hello']"
            ]
          },
          "metadata": {},
          "execution_count": 71
        }
      ],
      "source": [
        "bb"
      ]
    },
    {
      "cell_type": "markdown",
      "source": [
        "# **set**"
      ],
      "metadata": {
        "id": "nlXiLd7NhjT6"
      }
    },
    {
      "cell_type": "code",
      "source": [
        "set1 ={1,2,3,4}"
      ],
      "metadata": {
        "id": "a4aj5OWPhk26"
      },
      "execution_count": 72,
      "outputs": []
    },
    {
      "cell_type": "code",
      "source": [
        "type(set1)"
      ],
      "metadata": {
        "colab": {
          "base_uri": "https://localhost:8080/"
        },
        "id": "E8KCSxm_ianp",
        "outputId": "7aa4d395-e2c8-427a-c9f1-06ab378ebc56"
      },
      "execution_count": 73,
      "outputs": [
        {
          "output_type": "execute_result",
          "data": {
            "text/plain": [
              "set"
            ]
          },
          "metadata": {},
          "execution_count": 73
        }
      ]
    },
    {
      "cell_type": "code",
      "source": [
        "set2 = {1,2,3,4,5,6,7}  #superset\n",
        "set3 = {3,4,5,6}        #subset\n",
        "set4 = {100,200,300,400}"
      ],
      "metadata": {
        "id": "gAC7saYpi5gx"
      },
      "execution_count": 78,
      "outputs": []
    },
    {
      "cell_type": "code",
      "source": [
        "set1.union(set2)"
      ],
      "metadata": {
        "colab": {
          "base_uri": "https://localhost:8080/"
        },
        "id": "P2M0fO6ii8m8",
        "outputId": "cd0086cf-27db-4a7d-e7b7-cdcbeb360bc2"
      },
      "execution_count": 75,
      "outputs": [
        {
          "output_type": "execute_result",
          "data": {
            "text/plain": [
              "{1, 2, 3, 4, 5, 6, 7}"
            ]
          },
          "metadata": {},
          "execution_count": 75
        }
      ]
    },
    {
      "cell_type": "code",
      "source": [
        "set1.intersection(set2)"
      ],
      "metadata": {
        "id": "wJJM3FO-jnoY",
        "outputId": "8411a446-05c8-4bca-898c-f4cea99e8774",
        "colab": {
          "base_uri": "https://localhost:8080/"
        }
      },
      "execution_count": 76,
      "outputs": [
        {
          "output_type": "execute_result",
          "data": {
            "text/plain": [
              "{1, 2, 3, 4}"
            ]
          },
          "metadata": {},
          "execution_count": 76
        }
      ]
    },
    {
      "cell_type": "code",
      "source": [
        "set2.issuperset(set1)"
      ],
      "metadata": {
        "id": "6PUafJK4kBvx",
        "outputId": "da9da4b0-305c-4b42-f28b-d7d5c5e2bfd4",
        "colab": {
          "base_uri": "https://localhost:8080/"
        }
      },
      "execution_count": 79,
      "outputs": [
        {
          "output_type": "execute_result",
          "data": {
            "text/plain": [
              "True"
            ]
          },
          "metadata": {},
          "execution_count": 79
        }
      ]
    },
    {
      "cell_type": "code",
      "source": [
        "set3.issubset(set2)"
      ],
      "metadata": {
        "id": "Rw_hlgOrlqg4",
        "outputId": "617d321b-c69e-4c63-ffdf-58cacdac2499",
        "colab": {
          "base_uri": "https://localhost:8080/"
        }
      },
      "execution_count": 81,
      "outputs": [
        {
          "output_type": "execute_result",
          "data": {
            "text/plain": [
              "True"
            ]
          },
          "metadata": {},
          "execution_count": 81
        }
      ]
    },
    {
      "cell_type": "code",
      "source": [
        "set2.isdisjoint(set4)"
      ],
      "metadata": {
        "id": "VB1MlOcEl0e0",
        "outputId": "6b92b87d-1759-467d-ebf4-15abcf486a63",
        "colab": {
          "base_uri": "https://localhost:8080/"
        }
      },
      "execution_count": 82,
      "outputs": [
        {
          "output_type": "execute_result",
          "data": {
            "text/plain": [
              "True"
            ]
          },
          "metadata": {},
          "execution_count": 82
        }
      ]
    }
  ],
  "metadata": {
    "colab": {
      "provenance": []
    },
    "kernelspec": {
      "display_name": "base",
      "language": "python",
      "name": "python3"
    },
    "language_info": {
      "codemirror_mode": {
        "name": "ipython",
        "version": 3
      },
      "file_extension": ".py",
      "mimetype": "text/x-python",
      "name": "python",
      "nbconvert_exporter": "python",
      "pygments_lexer": "ipython3",
      "version": "3.13.5"
    }
  },
  "nbformat": 4,
  "nbformat_minor": 0
}